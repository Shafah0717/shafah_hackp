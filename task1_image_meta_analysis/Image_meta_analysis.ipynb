{
  "nbformat": 4,
  "nbformat_minor": 0,
  "metadata": {
    "colab": {
      "provenance": []
    },
    "kernelspec": {
      "name": "python3",
      "display_name": "Python 3"
    },
    "language_info": {
      "name": "python"
    }
  },
  "cells": [
    {
      "cell_type": "code",
      "execution_count": null,
      "metadata": {
        "id": "YK65wzzqzliq",
        "colab": {
          "base_uri": "https://localhost:8080/"
        },
        "outputId": "ea67808a-3fc6-44f4-b64e-b8e0198d245f"
      },
      "outputs": [
        {
          "output_type": "stream",
          "name": "stdout",
          "text": [
            "Requirement already satisfied: pillow in /usr/local/lib/python3.12/dist-packages (11.3.0)\n",
            "Collecting exifread\n",
            "  Downloading exifread-3.5.1-py3-none-any.whl.metadata (10 kB)\n",
            "Downloading exifread-3.5.1-py3-none-any.whl (59 kB)\n",
            "\u001b[2K   \u001b[90m━━━━━━━━━━━━━━━━━━━━━━━━━━━━━━━━━━━━━━━━\u001b[0m \u001b[32m59.7/59.7 kB\u001b[0m \u001b[31m1.9 MB/s\u001b[0m eta \u001b[36m0:00:00\u001b[0m\n",
            "\u001b[?25hInstalling collected packages: exifread\n",
            "Successfully installed exifread-3.5.1\n",
            "Collecting pytesseract\n",
            "  Downloading pytesseract-0.3.13-py3-none-any.whl.metadata (11 kB)\n",
            "Requirement already satisfied: packaging>=21.3 in /usr/local/lib/python3.12/dist-packages (from pytesseract) (25.0)\n",
            "Requirement already satisfied: Pillow>=8.0.0 in /usr/local/lib/python3.12/dist-packages (from pytesseract) (11.3.0)\n",
            "Downloading pytesseract-0.3.13-py3-none-any.whl (14 kB)\n",
            "Installing collected packages: pytesseract\n",
            "Successfully installed pytesseract-0.3.13\n",
            "Collecting langdetect\n",
            "  Downloading langdetect-1.0.9.tar.gz (981 kB)\n",
            "\u001b[2K     \u001b[90m━━━━━━━━━━━━━━━━━━━━━━━━━━━━━━━━━━━━━━\u001b[0m \u001b[32m981.5/981.5 kB\u001b[0m \u001b[31m13.7 MB/s\u001b[0m eta \u001b[36m0:00:00\u001b[0m\n",
            "\u001b[?25h  Preparing metadata (setup.py) ... \u001b[?25l\u001b[?25hdone\n",
            "Requirement already satisfied: six in /usr/local/lib/python3.12/dist-packages (from langdetect) (1.17.0)\n",
            "Building wheels for collected packages: langdetect\n",
            "  Building wheel for langdetect (setup.py) ... \u001b[?25l\u001b[?25hdone\n",
            "  Created wheel for langdetect: filename=langdetect-1.0.9-py3-none-any.whl size=993223 sha256=cff362dfd8a8da0e30c599f38deb8e1fd97511ac92b9a4cb919400ed9db0be2b\n",
            "  Stored in directory: /root/.cache/pip/wheels/c1/67/88/e844b5b022812e15a52e4eaa38a1e709e99f06f6639d7e3ba7\n",
            "Successfully built langdetect\n",
            "Installing collected packages: langdetect\n",
            "Successfully installed langdetect-1.0.9\n"
          ]
        }
      ],
      "source": [
        "!pip install pillow\n",
        "!pip install exifread\n",
        "!pip install pytesseract\n",
        "!pip install langdetect"
      ]
    },
    {
      "cell_type": "code",
      "source": [
        "from PIL import Image\n",
        "import exifread\n",
        "import pytesseract\n",
        "from langdetect import detect\n",
        "\n",
        "img = Image.open(\"example1.webp\")\n",
        "print(img.format,img.mode,img.size)\n",
        "\n",
        "with open(\"example1.webp\",\"rb\") as f:\n",
        "  tags = exifread.process_file(f)\n",
        "\n",
        "for tag, value in tags.items():\n",
        "  print(tag, \":\", value)\n",
        "\n",
        "text = pytesseract.image_to_string(img)\n",
        "print(\"Extracted Text:\", text)\n",
        "\n",
        "print(f\" language code {detect(text)}\")"
      ],
      "metadata": {
        "id": "Mc3mjngh9rXK",
        "colab": {
          "base_uri": "https://localhost:8080/"
        },
        "outputId": "7511eb0f-5a8b-4dba-b569-be643dbf8594"
      },
      "execution_count": null,
      "outputs": [
        {
          "output_type": "stream",
          "name": "stderr",
          "text": [
            "WARNING:exifread:Webp file does not have exif data.\n"
          ]
        },
        {
          "output_type": "stream",
          "name": "stdout",
          "text": [
            "WEBP RGB (732, 548)\n",
            "Extracted Text: * MAKE TEXT\n",
            "\n",
            "STAND OUT FROM\n",
            "BACKGROUNDS 7” <\n",
            "\n",
            "\\}\n",
            "\n",
            " \n",
            "   \n",
            "\n",
            " \n",
            " \n",
            "\n",
            "hs\n",
            "\f\n",
            " language code en\n"
          ]
        }
      ]
    }
  ]
}