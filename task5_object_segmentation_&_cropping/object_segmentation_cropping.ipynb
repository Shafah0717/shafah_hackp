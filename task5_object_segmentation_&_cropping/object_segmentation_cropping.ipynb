{
  "nbformat": 4,
  "nbformat_minor": 0,
  "metadata": {
    "colab": {
      "provenance": []
    },
    "kernelspec": {
      "name": "python3",
      "display_name": "Python 3"
    },
    "language_info": {
      "name": "python"
    }
  },
  "cells": [
    {
      "cell_type": "code",
      "execution_count": null,
      "metadata": {
        "id": "Z8qrWSplgPBt"
      },
      "outputs": [],
      "source": [
        "!pip install torch torchvision --upgrade\n",
        "\n",
        "!pip install 'git+https://github.com/facebookresearch/detectron2.git'\n",
        "!pip install opencv-python matplotlib\n"
      ]
    },
    {
      "cell_type": "code",
      "source": [
        "import cv2\n",
        "import numpy as np\n",
        "import matplotlib.pyplot as plt\n",
        "from detectron2.engine import DefaultPredictor\n",
        "from detectron2.config import get_cfg\n",
        "from detectron2 import model_zoo\n",
        "from google.colab import files\n",
        "\n",
        "cfg = get_cfg()\n",
        "cfg.merge_from_file(model_zoo.get_config_file(\n",
        "    \"COCO-InstanceSegmentation/mask_rcnn_R_50_FPN_3x.yaml\"\n",
        "))\n",
        "\n",
        "cfg.MODEL.ROI_HEADS.SCORE_THRESH_TEST = 0.5\n",
        "\n",
        "cfg.MODEL.WEIGHTS = model_zoo.get_checkpoint_url(\n",
        "    \"COCO-InstanceSegmentation/mask_rcnn_R_50_FPN_3x.yaml\"\n",
        ")\n",
        "\n",
        "predictor = DefaultPredictor(cfg)\n",
        "\n",
        "uploaded = files.upload()\n",
        "image_path = list(uploaded)[0]\n",
        "\n",
        "image = cv2.imread(image_path)\n",
        "image = cv2.cvtColor(image, cv2.COLOR_BGR2RGB)\n",
        "\n",
        "plt.imshow(image)\n",
        "plt.axis(\"off\")\n",
        "plt.show()\n",
        "\n",
        "outputs = predictor(image)\n",
        "\n",
        "masks = outputs[\"instances\"].pred_masks.cpu().numpy()\n",
        "classes = outputs[\"instances\"].pred_classes.cpu().numpy()\n",
        "\n",
        "blurred_image = image.copy()\n",
        "\n",
        "for mask,cls in zip(masks,classes):\n",
        "  if cls==0:\n",
        "    temp_blur = cv2.GaussianBlur(blurred_image,(21, 21), 10)\n",
        "    blurred_image[mask]=temp_blur[mask]\n",
        "\n",
        "plt.imshow(blurred_image)\n",
        "plt.axis(\"off\")\n",
        "plt.show()\n",
        "\n",
        "cv2.imwrite(\"blurred_output.jpg\", cv2.cvtColor(blurred_image, cv2.COLOR_RGB2BGR))\n",
        "\n"
      ],
      "metadata": {
        "id": "Knfpgv4gh3zF"
      },
      "execution_count": null,
      "outputs": []
    }
  ]
}